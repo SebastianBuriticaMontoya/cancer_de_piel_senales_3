{
 "cells": [
  {
   "cell_type": "markdown",
   "metadata": {},
   "source": [
    "# Reconocimiento y clasificación de cancer de piel"
   ]
  },
  {
   "cell_type": "markdown",
   "metadata": {},
   "source": [
    "# Clasifición de cancer de piel\n",
    "\n",
    "## Preguntas a resolver\n",
    "\n",
    "    ¿Es posible determinar si un cancer de piel es beningno o maligno unicamente a partir de imagenes?\n",
    "    ¿Que caracteristicas se deben tener en cuenta para lograr una correcta clasificación (benigno o maligno)? \n",
    "    ¿Que tipo de algoritmo de machine learnig es el ideal para este tipo analisis?\n",
    "\n",
    "## Descripción del problema\n",
    "\n",
    "El cancer de piel es una de las enfermedades mas comunes en estados unidos, algunas personas tienen un riesgo mas alto que otras de contraerlo pero en general le puede dar a cualquiera. Las principales caracteristicas de una persona con mas riesgo de  contraer cancer de piel son: \n",
    "\n",
    "    -Piel clara.\n",
    "    -Piel que fácilmente se quema, enrojece o le salen pecas o que bajo el sol se siente adolorida.\n",
    "    -Ojos azules o verdes.\n",
    "    -Cabello rubio o pelirrojo.\n",
    "    -Cierto tipo de lunares o numerosos lunares.\n",
    "    -Antecedentes familiares de cáncer de piel.\n",
    "    -Antecedentes personales de cáncer de piel.\n",
    "    \n",
    " Un cambio en la piel es el signo más común de cáncer de piel. Estos cambios pueden ser una lesión nueva que le salió en la piel, una llaga que no cicatriza o un cambio en un lunar. No todos los cánceres de piel se ven iguales.\n",
    "\n",
    "Los dos tipos de cáncer de piel más comunes, el carcinoma basocelular y el carcinoma espinocelular, tienen altas probabilidades de curación, pero pueden causar desfiguración y ser costosos para tratar\n",
    "    \n",
    "En este proyecto el principal objetivo es determinar a partir de una imagen si un cancer puede o no ser peligroso para la salud\n",
    "\n",
    "   ## Fuentes de información (obtenidas por google scholar, algunas solo el Resumen pues algunos son pago)\n",
    "\n",
    "1. Machine‐learning classification of non‐melanoma skin cancers from image features obtained by optical coherence tomography; Thomas Martini Jørgensen  Andreas Tycho  Mette Mogensen  Peter Bjerring  Gregor B.E. Jemec\n",
    "2. AUTOMATIC SKIN CANCER IMAGE CLASSIFICATION: Mahmoud Elgamal Institute of Hajii and umra., Um Alqura Uni.\n",
    "3. Dermatologist-level classification of skin cancer with deep neural networks: Andre Esteva, Brett Kuprel, Roberto A. Novoa, Justin Ko, Susan M. Swetter, Helen M. Blau & Sebastian Thrun  \n",
    "4. DERMA/Care: An Advanced image-Processing Mobile Application for Monitoring Skin Cancer: Alexandros Karargyris ; Orestis Karargyris ; Alexandros Pantelopoulos  \n",
    "5. Perednia DA, Gaines JA, Rossum AC. Variability in physician assessment of\n",
    "lesions in cutaneous images and its implications for skin screening and\n",
    "computer-assisted diagnosis. Arch Dermatol, 1992, vol 128, pp 357–364.\n",
    "6. Fleming, M.G., Steger, C., et al.: Techniques for a structural analysis of\n",
    "dermatoscopic imagery. Comput. med. imaging graph. 22(5), 375–389 (1998)\n",
    "7. Fischer, S., Guillod, J., et al.: Analysis of skin lesions with pigmented networks.\n",
    "In: Proceeding of International Conference Image Processing, pp. 323–326\n",
    "(1996)\n",
    "8. Anantha, M., Moss, R.H., Stoecker, W.V.: Detection of pigment network in\n",
    "dermatoscopy images using texture analysis. Comput. Med. Imaging Graph.\n",
    "28(5), 225–234 (2004)\n",
    "9. Grana, C., Cucchiara, R., Pellacani, G., Seidenari, S.: Line detection and texture\n",
    "characterization of network patterns. In: Proceedings—International\n",
    "Conference on Pattern Recognition, vol. 2(1699200), pp. 275–278 (2006)\n",
    "10. Betta, G., Di Leo, G., Fabbrocini, G., Paolillo, A., Sommella, P.: Dermoscopic\n",
    "image-analysis system: estimation of atypical pigment network and atypical\n",
    "vascular pattern. IEEE International Workshop on Medical Measurement and\n",
    "Applications, MeMeA, art. 1644462, 63–67 (2006)\n",
    "11. Di Leo, G., Paolillo, A., Sommella, P., Liguori, C.: An improved procedure for\n",
    "the automatic detection of dermoscopic structures in digital ELM images of\n",
    "skin lesions. In: Proceedings of IEEE Conference Virtual Environments HumanComputer Interfaces and Measurement Systems, pp. 190–194 (2008)\n",
    "12. Shrestha, B., Bishop, J., Kam, K., Chen, X., Moss, R.H., Stoecker,W.V.,\n",
    "Umbaugh, S., Stanley, R.J., Celebi, M.E.,Marghoob, A.A., Argenziano, G., Soyer,\n",
    "H.P.: Detection of atypical texture features in early malignant melanoma. Skin\n",
    "Res. Technol. 16(1), 60–65 (2010)\n",
    "13. Wighton, P., Lee, T.K., Lui, H., McLean, D.I., Atkins, M.S.: Generalizing common\n",
    "tasks in automated skin lesion diagnosis. IEEE Trans. Information Technology\n",
    "in Biomed. 15(4), 5763779, 622–629 (2011)\n",
    "14. Barata, C., Marques, J. S., Rozeira, J.: A system for the detection of pigment\n",
    "network in dermoscopy images using directional filters. IEEE Trans. Biomed.\n",
    "Eng. 59(10), art. no. 100, 2744–2754 (2012)\n",
    "15. Sadeghi M, Razmara M, Ester M, Lee TK, Atkins MS: Graph-based pigment\n",
    "network detection in skin images. SPIE Digital Library. 2010 Apr 26. Proc. SPIE\n",
    "7623 762312-1.\n",
    "16. Yoshino, S., Tanaka, T., Tanaka, M., Oka, H.: Application of morphology for\n",
    "detection of dots in tumor. In: Proceedings of the SICE Annual Conference,\n",
    "WPI-3-3, pp. 407–410 (2004)\n",
    "17. Mirzaalian, H., Lee, T.K., Hamarneh, G.: Learning features for streak detection\n",
    "in dermoscopic color images using localized radial flux of principal intensity\n",
    "curvature. In: Proceedings of the Workshop on Mathematical Methods in\n",
    "Biomedical Image Analysis, 6164758, pp. 97–101(2012)\n",
    "18. Sadeghi, M., Lee, T., Lui, H., McLean, D., Atkins, S.: Detection and analysis of\n",
    "irregular streaks in dermoscopic images of skin lesions. IEEE Trans. Med.\n",
    "Imaging (2013, in press)\n",
    "19. Arroyo, J. L. G., Zapirain, B. G., Zorrilla, A. M.: Blue-white veil and dark-red\n",
    "patch of pigment pattern recognition in dermoscopic images using machinelearning techniques. In: IEEE International Symposium on Signal Processing\n",
    "and Information Technology, ISSPIT 2011, art. no. 6151559, 196–201 (2011)\n",
    "20. Dalal, A., Moss, R.H., Stanley, R.J., Stoecker,W.V., Gupta, K., Calcara, D.A., Xu,\n",
    "J., Shrestha, B., Drugge, R., Malters, J.M., Perry, L.A.: Concentric decile\n",
    "segmentation of white and hypopigmented areas in dermoscopy images of\n",
    "skin lesions allows discrimination ofmalignant melanoma. Comput. Med.\n",
    "Imaging Graph. 35(2), 148–154 (2011)\n",
    "21. Tanaka, T., Torii, S., Kabuta, I., Shimizu, K., Tanaka, M., Oka, H.: Pattern\n",
    "classification of nevus with texture analysis. In: Annual International\n",
    "Conference of the IEEE Engineering in Medicine and Biology—Proceedings 26\n",
    "II, pp. 1459–1462 (2004)\n",
    "22. Serrano C. and Acha B., Pattern analysis of dermoscopic images based on\n",
    "markov random fields, Pattern Recogn. (2009), 42(6), 1052–1057.\n",
    "23. Isasi Gola, A., Garcia Zapirain, B., Mendez Zorrilla, A.: Melanomas non-invasive\n",
    "diagnosis application based on the ABCD rule and pattern recognition image\n",
    "processing algorithms. Comput. Biol. Med. 41, 742–755 (2011)\n",
    "## Taxonomía\n",
    "\n",
    "Para realizar la taxonomía del proyecto se va a tener en cuenta principalmete el año de los articulos, pues de los 4 unicamente dos son a años superiores a 2010 y solo uno superior a 2016 el cual sera la principal fuente de información para conocer la tecnica de machine learnig a utilizar (DERMA/Care: An Advanced image-Processing Mobile Application for Monitoring Skin Cancer) aunque solamente nos da un indicio de la tecnica y los resultados, pues es un articulo pago, y con este realizar una nueva busqueda basada en esta técnica de articulos mas recientes, los demas sera untilizados como fuentes unicamente teoricas de descripción del problema e información. Despues de realizar la busqueda se vuelve y se clasificaran por fecha y similitudes en la base de datos con la que se tratara de solucionar el problema. Todos los papers se iran agregando a las fuentes de información a medida que se vayan encontrando los que cumplan las caracteristicas mencionadas anteriormente\n",
    "    \n",
    "## Estado del arte\n",
    "Existen numerosas propuestas de sistemas de asistencia al diagnóstico [5] para\n",
    "lesiones en la piel basados en diferentes criterios de reconocimiento de patrones.\n",
    "Algunas de ellas intentan distinguir un único patrón en la lesión pigmentada y otras\n",
    "intentan buscar varios patrones. \n",
    "Vamos a hablar de algunos patrones.\n",
    "\n",
    "### Patrón reticular\n",
    "La detección automática de patrones reticulares ha recibido mucha atención en los\n",
    "últimos años. Fleming et al. [6] propusieron una técnica para extraer y visualizar\n",
    "retículos pigmentados mediante operadores morfológicos. Investigaron el espesor y la\n",
    "variabilidad de este en los bordes del retículo y el tamaño. Los resultados que\n",
    "obtuvieron utilizando operadores morfológicos fueron puramente cualitativos.\n",
    "Fischer et al. [7] usaron ecualización local del histograma y operadores morfológicos\n",
    "de nivel de gris para realzar los patrones reticulares.\n",
    "Anantha et al. [8] en el año 2004 compararon dos métodos: el primero se trataba de\n",
    "un algoritmo que se basaba en el filtrado con máscaras de energía de Laws, las cuales\n",
    "son máscaras bidimensionales derivadas de tres filtros unidimensionales simples,\n",
    "utilizando diversas máscaras y obteniendo el cuadrado de las respuestas. Se logró un\n",
    "buen resultado gracias a una media ponderada de dos máscaras de Laws, cuyos pesos se determinaron empíricamente. Con este sistema se logró un índice de acierto del\n",
    "78%. Para el segundo método se utilizó la matriz de dependencia vecinal de nivel de\n",
    "gris (NGLDM), sin embargo, no se obtuvieron tan buenos resultados como para el\n",
    "primero.\n",
    "En el año 2006, Grana, Pellacani y otros [9] propusieron otro enfoque: el uso de\n",
    "núcleos derivativos Gaussianos y el análisis lineal discriminante de Fisher. Se reportó\n",
    "un índice de éxito del 88.3%. Sin embargo, se detectó la existencia de falsos positivos\n",
    "por pelo y por el ruido\n",
    "Ese mismo año, Betta et al. [10] comenzaron tomando la diferencia de una imagen con\n",
    "su repuesta a un filtro de mediana. Tras este proceso se creó una máscara aplicando\n",
    "un umbral al resultado de la operación, para así después eliminar las discontinuidades\n",
    "gracias a una operación morfológica. Esta máscara se combinó con una creada a partir\n",
    "de un filtro paso alto aplicado en el dominio de Fourier para discriminar cualquier\n",
    "frecuencia baja moduladora. Los resultados mostraron una sensibilidad del 50% y una\n",
    "especificidad del 100%.\n",
    "Di Leo et al. [11] en 2008 extendieron este último método y extrajeron características\n",
    "sobre los retículos de la lesión. Los resultados, del 85%, fueron obtenidos mediante el\n",
    "uso de un árbol de decisión, para la etapa de clasificación.\n",
    "Ya en el año 2010, Shrestha et al. [12] presentaron un estudio con un conjunto de 106\n",
    "imágenes previamente segmentadas para localizar retículos atípicos pigmentados\n",
    "(APN). Si no existía APN, se localizaba de forma manual las regiones con textura\n",
    "irregular. Tras varios intentos y usos de diferentes métricas y clasificadores obtuvieron\n",
    "un resultado del 95.4%.\n",
    "Wighton [13] publicó un año más tarde, un método basado en el aprendizaje máquina\n",
    "para el análisis de una base de datos compuesta por 734 imágenes clasificadas como\n",
    "Ausente/Presente. Primero, se crea un grupo de 20 imágenes, donde el patrón\n",
    "reticular está presente a lo largo de toda la lesión y otro grupo de otras 20 imágenes.\n",
    "A los píxeles se les asigna una etiqueta: background, ausente, presente. Los píxeles que\n",
    "se encuentran fuera de la región segmentada son etiquetados como background,\n",
    "mientras que los píxeles que están dentro son etiquetados como ausente o presente.\n",
    "Barata et al. [14] presentaron un método basado en el uso de filtros direccionales y fue\n",
    "aplicado sobre un conjunto de 200 imágenes dermatoscopicas. Se obtuvo un resultado\n",
    "del 86.2% para la clasificación entre Ausente o Presente.\n",
    "\n",
    "## Otros patrones\n",
    "\n",
    "Los puntos y los glóbulos son estructuras redondas u ovaladas, de tamaño variable\n",
    "negro, marrón o gris. Es una estructura dermatoscópica que es difícil de distinguir de la\n",
    "red de pigmentos. Esta podría ser la razón por la cual hay tan pocos trabajos en la\n",
    "literatura centrada en su identificación. Yoshino et al. [16] presentaron un algoritmo\n",
    "que utilizaba la operación de cierre morfológico para detectar puntos y glóbulos en la\n",
    "lesión. La operación de cierre usaba un elemento estructural lineal y, posteriormente,\n",
    "se aplicaba un umbral para detectar puntos.\n",
    "Mirzaalian et al. [17] obtuvieron unos resultados del 91% para la detección de lesiones\n",
    "con patrones streaks. Para ello, primero enfocaron las imágenes para hacer resaltar los\n",
    "detalles, y a continuación, se definió un campo vectorial para cuantificar la dirección\n",
    "radial de las estructuras. Finalmente, se implementó el clasificador usando una\n",
    "máquina de vectores soporte (SVM).\n",
    "Sadeghi et al. [18] propusieron un algoritmo para la detección de streaks en lesiones\n",
    "pigmentadas. Estas eran clasificadas como ausentes, regulares e irregulares. El objetivo\n",
    "del trabajo era identificar streaks válidos entre un conjunto de líneas que podían ser\n",
    "pelos o simples líneas de la piel.\n",
    "En el año 2011, Arroyo et al. [19] desarrollaron técnicas supervisadas de aprendizaje\n",
    "automático para detectar patrones con velo azul-blanquecino. Para este fin, se\n",
    "extrajeron características de color de cada píxel individualmente y el clasificador\n",
    "utilizado fue el algoritmo, que generó el árbol de decisión. Las áreas candidatas\n",
    "seleccionadas en el paso anterior fueron posteriormente clasificadas como melanoma\n",
    "con velo azul-blanco. El método alcanzó una sensibilidad de 80.50% y una especificidad\n",
    "de 90.93%.\n",
    "En cuanto a patrones hipo pigmentados, Dalal et al. [20] expusieron un método para\n",
    "discriminar melanomas de lunares benignos mediante la detección automática de\n",
    "áreas blancas y las características de medición de estas áreas blancas. Con el fin de\n",
    "identificar áreas blancas e hipo pigmentadas, se determinaron umbrales para cada\n",
    "color basándose en el análisis de histograma de color utilizando un conjunto de\n",
    "imágenes de entrenamiento.\n",
    "\n",
    "## Multiples patrones\n",
    "\n",
    "Tanaka et al. [21] presentaron un análisis de textura para clasificar un patrón en tres\n",
    "categorías: homogénea, globular y reticular. El área de la lesión se dividió en pequeñas\n",
    "regiones y para cada una de ellas se calcularon 110 características de textura. Estas\n",
    "características se basaron en información de histogramas de intensidad, características\n",
    "estadísticas diferenciales, espectro de potencia de Fourier, matriz de co-ocurrencia y\n",
    "componentes conectados. Como resultado, los patrones podían ser clasificados\n",
    "correctamente en tres categorías en un 94% de los casos.\n",
    "Serrano y Acha [22] plantearon una nueva metodología basada en el reconocimiento\n",
    "de patrones. La lesión es clasificada en cinco tipos distintos de patrones (reticular,\n",
    "globular, empedrado, homogéneo y paralelo)\n",
    "Para analizar la textura del mismo, se modela la imagen como un modelo de Markov\n",
    "finito simétrico condicional (finite symmetric conditional Markov, FSCM), para después\n",
    "calcular un vector característico con los parámetros del modelo. Para distinguir los\n",
    "distintos tipos detectados, se aplica el criterio de máxima similitud para maximizar la\n",
    "distribución de probabilidad condicional. Para el patrón reticular se alcanzó un índice\n",
    "de acierto del 90%.\n",
    "Gola et al. [23] trabajaron en un método, en conjunto con la regla ABCD, que intentaba\n",
    "detectar 3 patrones globales. Para ello, desarrollaron 3 algoritmos. Los dos primeros se\n",
    "basaban en la detección de bordes y en el uso de operadores morfológicos para\n",
    "detectar patrones reticulares y globulares. En el tercero, realizaron análisis de color en\n",
    "el espacio RGB con el objetivo de detectar el patrón de velo azul-blanquecino. Los\n",
    "algoritmos propuestos produjeron una precisión media superior al 85%\n"
   ]
  },
  {
   "cell_type": "code",
   "execution_count": 4,
   "metadata": {},
   "outputs": [],
   "source": [
    "# Librerias\n",
    "# Cargar y guardar archivos\n",
    "import pandas as pd\n",
    "# Tamaño de arreglos\n",
    "import numpy as np\n",
    "# Analisis visual y estadistico\n",
    "import matplotlib.pyplot as plt\n",
    "%matplotlib inline\n",
    "import seaborn as sns\n",
    "# Imagenes\n",
    "import cv2 as cv\n",
    "from matplotlib.pyplot import imread \n",
    "import imageio\n",
    "## PCA\n",
    "from sklearn.decomposition import PCA"
   ]
  },
  {
   "cell_type": "markdown",
   "metadata": {},
   "source": [
    "## Extracción de caracteristicas\n",
    "Lo hizo de dos maneras:\n",
    "- La primera fue por medio del dataframe utilizando herramientas de python para analisis estadistico\n",
    "- La segunda fue por medio de las imagenes"
   ]
  },
  {
   "cell_type": "markdown",
   "metadata": {},
   "source": [
    "### 1. Dataframe\n",
    "Cargar dataframe que contiene 7 columnas\n",
    "1. columna - ?\n",
    "2. columna - etiquetas\n",
    "3. Clases - total 7\n",
    "4. historia\n",
    "5. edad de la persona\n",
    "6. sexo\n",
    "7. localizacion en la piel"
   ]
  },
  {
   "cell_type": "code",
   "execution_count": 5,
   "metadata": {},
   "outputs": [
    {
     "data": {
      "text/html": [
       "<div>\n",
       "<style scoped>\n",
       "    .dataframe tbody tr th:only-of-type {\n",
       "        vertical-align: middle;\n",
       "    }\n",
       "\n",
       "    .dataframe tbody tr th {\n",
       "        vertical-align: top;\n",
       "    }\n",
       "\n",
       "    .dataframe thead th {\n",
       "        text-align: right;\n",
       "    }\n",
       "</style>\n",
       "<table border=\"1\" class=\"dataframe\">\n",
       "  <thead>\n",
       "    <tr style=\"text-align: right;\">\n",
       "      <th></th>\n",
       "      <th>lesion_id</th>\n",
       "      <th>image_id</th>\n",
       "      <th>dx</th>\n",
       "      <th>dx_type</th>\n",
       "      <th>age</th>\n",
       "      <th>sex</th>\n",
       "      <th>localization</th>\n",
       "    </tr>\n",
       "  </thead>\n",
       "  <tbody>\n",
       "    <tr>\n",
       "      <th>0</th>\n",
       "      <td>HAM_0000118</td>\n",
       "      <td>ISIC_0027419</td>\n",
       "      <td>bkl</td>\n",
       "      <td>histo</td>\n",
       "      <td>80.0</td>\n",
       "      <td>0</td>\n",
       "      <td>0</td>\n",
       "    </tr>\n",
       "    <tr>\n",
       "      <th>1</th>\n",
       "      <td>HAM_0000118</td>\n",
       "      <td>ISIC_0025030</td>\n",
       "      <td>bkl</td>\n",
       "      <td>histo</td>\n",
       "      <td>80.0</td>\n",
       "      <td>0</td>\n",
       "      <td>0</td>\n",
       "    </tr>\n",
       "    <tr>\n",
       "      <th>2</th>\n",
       "      <td>HAM_0002730</td>\n",
       "      <td>ISIC_0026769</td>\n",
       "      <td>bkl</td>\n",
       "      <td>histo</td>\n",
       "      <td>80.0</td>\n",
       "      <td>0</td>\n",
       "      <td>0</td>\n",
       "    </tr>\n",
       "    <tr>\n",
       "      <th>3</th>\n",
       "      <td>HAM_0002730</td>\n",
       "      <td>ISIC_0025661</td>\n",
       "      <td>bkl</td>\n",
       "      <td>histo</td>\n",
       "      <td>80.0</td>\n",
       "      <td>0</td>\n",
       "      <td>0</td>\n",
       "    </tr>\n",
       "    <tr>\n",
       "      <th>4</th>\n",
       "      <td>HAM_0001466</td>\n",
       "      <td>ISIC_0031633</td>\n",
       "      <td>bkl</td>\n",
       "      <td>histo</td>\n",
       "      <td>75.0</td>\n",
       "      <td>0</td>\n",
       "      <td>1</td>\n",
       "    </tr>\n",
       "    <tr>\n",
       "      <th>...</th>\n",
       "      <td>...</td>\n",
       "      <td>...</td>\n",
       "      <td>...</td>\n",
       "      <td>...</td>\n",
       "      <td>...</td>\n",
       "      <td>...</td>\n",
       "      <td>...</td>\n",
       "    </tr>\n",
       "    <tr>\n",
       "      <th>2207</th>\n",
       "      <td>HAM_0002552</td>\n",
       "      <td>ISIC_0033232</td>\n",
       "      <td>mel</td>\n",
       "      <td>histo</td>\n",
       "      <td>25.0</td>\n",
       "      <td>0</td>\n",
       "      <td>6</td>\n",
       "    </tr>\n",
       "    <tr>\n",
       "      <th>2208</th>\n",
       "      <td>HAM_0003807</td>\n",
       "      <td>ISIC_0032655</td>\n",
       "      <td>bkl</td>\n",
       "      <td>consensus</td>\n",
       "      <td>40.0</td>\n",
       "      <td>0</td>\n",
       "      <td>8</td>\n",
       "    </tr>\n",
       "    <tr>\n",
       "      <th>2209</th>\n",
       "      <td>HAM_0003807</td>\n",
       "      <td>ISIC_0033620</td>\n",
       "      <td>bkl</td>\n",
       "      <td>consensus</td>\n",
       "      <td>40.0</td>\n",
       "      <td>0</td>\n",
       "      <td>8</td>\n",
       "    </tr>\n",
       "    <tr>\n",
       "      <th>2210</th>\n",
       "      <td>HAM_0003808</td>\n",
       "      <td>ISIC_0034040</td>\n",
       "      <td>bkl</td>\n",
       "      <td>consensus</td>\n",
       "      <td>40.0</td>\n",
       "      <td>0</td>\n",
       "      <td>8</td>\n",
       "    </tr>\n",
       "    <tr>\n",
       "      <th>2211</th>\n",
       "      <td>HAM_0003521</td>\n",
       "      <td>ISIC_0032258</td>\n",
       "      <td>mel</td>\n",
       "      <td>histo</td>\n",
       "      <td>70.0</td>\n",
       "      <td>1</td>\n",
       "      <td>3</td>\n",
       "    </tr>\n",
       "  </tbody>\n",
       "</table>\n",
       "<p>2212 rows × 7 columns</p>\n",
       "</div>"
      ],
      "text/plain": [
       "        lesion_id      image_id   dx    dx_type   age  sex  localization\n",
       "0     HAM_0000118  ISIC_0027419  bkl      histo  80.0    0             0\n",
       "1     HAM_0000118  ISIC_0025030  bkl      histo  80.0    0             0\n",
       "2     HAM_0002730  ISIC_0026769  bkl      histo  80.0    0             0\n",
       "3     HAM_0002730  ISIC_0025661  bkl      histo  80.0    0             0\n",
       "4     HAM_0001466  ISIC_0031633  bkl      histo  75.0    0             1\n",
       "...           ...           ...  ...        ...   ...  ...           ...\n",
       "2207  HAM_0002552  ISIC_0033232  mel      histo  25.0    0             6\n",
       "2208  HAM_0003807  ISIC_0032655  bkl  consensus  40.0    0             8\n",
       "2209  HAM_0003807  ISIC_0033620  bkl  consensus  40.0    0             8\n",
       "2210  HAM_0003808  ISIC_0034040  bkl  consensus  40.0    0             8\n",
       "2211  HAM_0003521  ISIC_0032258  mel      histo  70.0    1             3\n",
       "\n",
       "[2212 rows x 7 columns]"
      ]
     },
     "execution_count": 5,
     "metadata": {},
     "output_type": "execute_result"
    }
   ],
   "source": [
    "df=pd.read_excel('metadata2.xlsx')\n",
    "df"
   ]
  },
  {
   "cell_type": "markdown",
   "metadata": {},
   "source": [
    "### Distribución de los datos y analisis estadistico\n",
    "Según lo obtenido en la distribución de los datos se decidio trabajar con bkl y mel por que son las clases mas balanceadas y en un analisis visual y estadistico sus boxplot tanto para edad y para localización se puede diferenciar las clases, y su correlación es muy debil por lo tanto no se relación entre si y se pueden trabajar con ambas."
   ]
  },
  {
   "cell_type": "code",
   "execution_count": 7,
   "metadata": {},
   "outputs": [
    {
     "data": {
      "image/png": "[encoded data removed]",
      "text/plain": [
       "<Figure size 432x288 with 1 Axes>"
      ]
     },
     "metadata": {
      "needs_background": "light"
     },
     "output_type": "display_data"
    },
    {
     "data": {
      "image/png": "[encoded data removed]",
      "text/plain": [
       "<Figure size 720x360 with 1 Axes>"
      ]
     },
     "metadata": {
      "needs_background": "light"
     },
     "output_type": "display_data"
    },
    {
     "data": {
      "image/png": "[encoded data removed]",
      "text/plain": [
       "<Figure size 720x360 with 1 Axes>"
      ]
     },
     "metadata": {
      "needs_background": "light"
     },
     "output_type": "display_data"
    },
    {
     "data": {
      "image/png": "[encoded data removed]",
      "text/plain": [
       "<Figure size 720x360 with 1 Axes>"
      ]
     },
     "metadata": {
      "needs_background": "light"
     },
     "output_type": "display_data"
    },
    {
     "data": {
      "text/html": [
       "<style  type=\"text/css\" >\n",
       "    #T_86702d7e_a22f_11ea_8257_9c7bef13acbbrow0_col0 {\n",
       "            background-color:  #b40426;\n",
       "            color:  #f1f1f1;\n",
       "        }    #T_86702d7e_a22f_11ea_8257_9c7bef13acbbrow0_col1 {\n",
       "            background-color:  #3b4cc0;\n",
       "            color:  #f1f1f1;\n",
       "        }    #T_86702d7e_a22f_11ea_8257_9c7bef13acbbrow0_col2 {\n",
       "            background-color:  #3b4cc0;\n",
       "            color:  #f1f1f1;\n",
       "        }    #T_86702d7e_a22f_11ea_8257_9c7bef13acbbrow1_col0 {\n",
       "            background-color:  #3b4cc0;\n",
       "            color:  #f1f1f1;\n",
       "        }    #T_86702d7e_a22f_11ea_8257_9c7bef13acbbrow1_col1 {\n",
       "            background-color:  #b40426;\n",
       "            color:  #f1f1f1;\n",
       "        }    #T_86702d7e_a22f_11ea_8257_9c7bef13acbbrow1_col2 {\n",
       "            background-color:  #7b9ff9;\n",
       "            color:  #000000;\n",
       "        }    #T_86702d7e_a22f_11ea_8257_9c7bef13acbbrow2_col0 {\n",
       "            background-color:  #516ddb;\n",
       "            color:  #000000;\n",
       "        }    #T_86702d7e_a22f_11ea_8257_9c7bef13acbbrow2_col1 {\n",
       "            background-color:  #92b4fe;\n",
       "            color:  #000000;\n",
       "        }    #T_86702d7e_a22f_11ea_8257_9c7bef13acbbrow2_col2 {\n",
       "            background-color:  #b40426;\n",
       "            color:  #f1f1f1;\n",
       "        }</style><table id=\"T_86702d7e_a22f_11ea_8257_9c7bef13acbb\" ><thead>    <tr>        <th class=\"blank level0\" ></th>        <th class=\"col_heading level0 col0\" >age</th>        <th class=\"col_heading level0 col1\" >sex</th>        <th class=\"col_heading level0 col2\" >localization</th>    </tr></thead><tbody>\n",
       "                <tr>\n",
       "                        <th id=\"T_86702d7e_a22f_11ea_8257_9c7bef13acbblevel0_row0\" class=\"row_heading level0 row0\" >age</th>\n",
       "                        <td id=\"T_86702d7e_a22f_11ea_8257_9c7bef13acbbrow0_col0\" class=\"data row0 col0\" >1.000000</td>\n",
       "                        <td id=\"T_86702d7e_a22f_11ea_8257_9c7bef13acbbrow0_col1\" class=\"data row0 col1\" >-0.160579</td>\n",
       "                        <td id=\"T_86702d7e_a22f_11ea_8257_9c7bef13acbbrow0_col2\" class=\"data row0 col2\" >-0.071817</td>\n",
       "            </tr>\n",
       "            <tr>\n",
       "                        <th id=\"T_86702d7e_a22f_11ea_8257_9c7bef13acbblevel0_row1\" class=\"row_heading level0 row1\" >sex</th>\n",
       "                        <td id=\"T_86702d7e_a22f_11ea_8257_9c7bef13acbbrow1_col0\" class=\"data row1 col0\" >-0.160579</td>\n",
       "                        <td id=\"T_86702d7e_a22f_11ea_8257_9c7bef13acbbrow1_col1\" class=\"data row1 col1\" >1.000000</td>\n",
       "                        <td id=\"T_86702d7e_a22f_11ea_8257_9c7bef13acbbrow1_col2\" class=\"data row1 col2\" >0.143954</td>\n",
       "            </tr>\n",
       "            <tr>\n",
       "                        <th id=\"T_86702d7e_a22f_11ea_8257_9c7bef13acbblevel0_row2\" class=\"row_heading level0 row2\" >localization</th>\n",
       "                        <td id=\"T_86702d7e_a22f_11ea_8257_9c7bef13acbbrow2_col0\" class=\"data row2 col0\" >-0.071817</td>\n",
       "                        <td id=\"T_86702d7e_a22f_11ea_8257_9c7bef13acbbrow2_col1\" class=\"data row2 col1\" >0.143954</td>\n",
       "                        <td id=\"T_86702d7e_a22f_11ea_8257_9c7bef13acbbrow2_col2\" class=\"data row2 col2\" >1.000000</td>\n",
       "            </tr>\n",
       "    </tbody></table>"
      ],
      "text/plain": [
       "<pandas.io.formats.style.Styler at 0x2639bab3c08>"
      ]
     },
     "execution_count": 7,
     "metadata": {},
     "output_type": "execute_result"
    }
   ],
   "source": [
    "# Distribución\n",
    "sns.countplot(df['dx'])\n",
    "# Boxplot de cada caracteristicas respecto al estado del estudiante\n",
    "for i in [ 'age','localization','sex']:\n",
    "    boxplot = df.boxplot(column=i, by='dx', fontsize=10,figsize=(10,5),)\n",
    "    plt.show()\n",
    "# Correlación\n",
    "correlacion_estudiantes_base=df.corr()\n",
    "correlacion_estudiantes_base.style.background_gradient(cmap='coolwarm')"
   ]
  },
  {
   "cell_type": "markdown",
   "metadata": {},
   "source": [
    "### Filtrado de registros\n",
    "Se elimino las columnas (caracteristicas y otras) que no se van a tener en cuenta y ademas se filtro los registros que no corresponden a bkl y mel"
   ]
  },
  {
   "cell_type": "code",
   "execution_count": 9,
   "metadata": {},
   "outputs": [
    {
     "data": {
      "text/html": [
       "<div>\n",
       "<style scoped>\n",
       "    .dataframe tbody tr th:only-of-type {\n",
       "        vertical-align: middle;\n",
       "    }\n",
       "\n",
       "    .dataframe tbody tr th {\n",
       "        vertical-align: top;\n",
       "    }\n",
       "\n",
       "    .dataframe thead th {\n",
       "        text-align: right;\n",
       "    }\n",
       "</style>\n",
       "<table border=\"1\" class=\"dataframe\">\n",
       "  <thead>\n",
       "    <tr style=\"text-align: right;\">\n",
       "      <th></th>\n",
       "      <th>image_id</th>\n",
       "      <th>dx</th>\n",
       "      <th>age</th>\n",
       "      <th>localization</th>\n",
       "    </tr>\n",
       "  </thead>\n",
       "  <tbody>\n",
       "    <tr>\n",
       "      <th>0</th>\n",
       "      <td>ISIC_0027419</td>\n",
       "      <td>bkl</td>\n",
       "      <td>80.0</td>\n",
       "      <td>0</td>\n",
       "    </tr>\n",
       "    <tr>\n",
       "      <th>1</th>\n",
       "      <td>ISIC_0025030</td>\n",
       "      <td>bkl</td>\n",
       "      <td>80.0</td>\n",
       "      <td>0</td>\n",
       "    </tr>\n",
       "    <tr>\n",
       "      <th>2</th>\n",
       "      <td>ISIC_0026769</td>\n",
       "      <td>bkl</td>\n",
       "      <td>80.0</td>\n",
       "      <td>0</td>\n",
       "    </tr>\n",
       "    <tr>\n",
       "      <th>3</th>\n",
       "      <td>ISIC_0025661</td>\n",
       "      <td>bkl</td>\n",
       "      <td>80.0</td>\n",
       "      <td>0</td>\n",
       "    </tr>\n",
       "    <tr>\n",
       "      <th>4</th>\n",
       "      <td>ISIC_0031633</td>\n",
       "      <td>bkl</td>\n",
       "      <td>75.0</td>\n",
       "      <td>1</td>\n",
       "    </tr>\n",
       "    <tr>\n",
       "      <th>...</th>\n",
       "      <td>...</td>\n",
       "      <td>...</td>\n",
       "      <td>...</td>\n",
       "      <td>...</td>\n",
       "    </tr>\n",
       "    <tr>\n",
       "      <th>2207</th>\n",
       "      <td>ISIC_0033232</td>\n",
       "      <td>mel</td>\n",
       "      <td>25.0</td>\n",
       "      <td>6</td>\n",
       "    </tr>\n",
       "    <tr>\n",
       "      <th>2208</th>\n",
       "      <td>ISIC_0032655</td>\n",
       "      <td>bkl</td>\n",
       "      <td>40.0</td>\n",
       "      <td>8</td>\n",
       "    </tr>\n",
       "    <tr>\n",
       "      <th>2209</th>\n",
       "      <td>ISIC_0033620</td>\n",
       "      <td>bkl</td>\n",
       "      <td>40.0</td>\n",
       "      <td>8</td>\n",
       "    </tr>\n",
       "    <tr>\n",
       "      <th>2210</th>\n",
       "      <td>ISIC_0034040</td>\n",
       "      <td>bkl</td>\n",
       "      <td>40.0</td>\n",
       "      <td>8</td>\n",
       "    </tr>\n",
       "    <tr>\n",
       "      <th>2211</th>\n",
       "      <td>ISIC_0032258</td>\n",
       "      <td>mel</td>\n",
       "      <td>70.0</td>\n",
       "      <td>3</td>\n",
       "    </tr>\n",
       "  </tbody>\n",
       "</table>\n",
       "<p>2212 rows × 4 columns</p>\n",
       "</div>"
      ],
      "text/plain": [
       "          image_id   dx   age  localization\n",
       "0     ISIC_0027419  bkl  80.0             0\n",
       "1     ISIC_0025030  bkl  80.0             0\n",
       "2     ISIC_0026769  bkl  80.0             0\n",
       "3     ISIC_0025661  bkl  80.0             0\n",
       "4     ISIC_0031633  bkl  75.0             1\n",
       "...            ...  ...   ...           ...\n",
       "2207  ISIC_0033232  mel  25.0             6\n",
       "2208  ISIC_0032655  bkl  40.0             8\n",
       "2209  ISIC_0033620  bkl  40.0             8\n",
       "2210  ISIC_0034040  bkl  40.0             8\n",
       "2211  ISIC_0032258  mel  70.0             3\n",
       "\n",
       "[2212 rows x 4 columns]"
      ]
     },
     "execution_count": 9,
     "metadata": {},
     "output_type": "execute_result"
    }
   ],
   "source": [
    "df=pd.read_excel('metadata2.xlsx')\n",
    "data=df.drop(['sex','lesion_id','dx_type'],axis=1)\n",
    "data"
   ]
  },
  {
   "cell_type": "markdown",
   "metadata": {},
   "source": [
    "### 2. Imagenes"
   ]
  },
  {
   "cell_type": "code",
   "execution_count": 10,
   "metadata": {},
   "outputs": [
    {
     "data": {
      "text/plain": [
       "2212"
      ]
     },
     "execution_count": 10,
     "metadata": {},
     "output_type": "execute_result"
    }
   ],
   "source": [
    "vector_etiquetas=data.iloc[:,0]\n",
    "vector_edad=data.iloc[:,2]\n",
    "vector_localizacion=data.iloc[:,3]\n",
    "len(vector_etiquetas)"
   ]
  },
  {
   "cell_type": "code",
   "execution_count": 11,
   "metadata": {},
   "outputs": [],
   "source": [
    "ruta_etiquetas=[]\n",
    "for etiquetas in vector_etiquetas:\n",
    "    ruta_etiquetas.append('.//HAM10000_images_part_1//'+etiquetas+'.jpg')\n",
    "#etiquetas"
   ]
  },
  {
   "cell_type": "markdown",
   "metadata": {},
   "source": [
    "# Reducción de dimensiones. Se pasa de RGB a escala de grises"
   ]
  },
  {
   "cell_type": "code",
   "execution_count": 12,
   "metadata": {},
   "outputs": [],
   "source": [
    "data_frame=[]\n",
    "X=[]\n",
    "Y=[]\n",
    "contador=0\n",
    "for i in ruta_etiquetas:\n",
    "    img =  imageio.imread(i)\n",
    "    gray = cv.cvtColor(img, cv.COLOR_BGR2GRAY)\n",
    "    X.append(gray)\n",
    "    Y.append(data.iloc[contador,1])\n",
    "    contador=contador+1"
   ]
  },
  {
   "cell_type": "code",
   "execution_count": 13,
   "metadata": {},
   "outputs": [
    {
     "name": "stdout",
     "output_type": "stream",
     "text": [
      "(450, 600, 3)\n",
      "(450, 600)\n"
     ]
    }
   ],
   "source": [
    "print(np.shape(img))\n",
    "print(np.shape(gray))"
   ]
  },
  {
   "cell_type": "markdown",
   "metadata": {},
   "source": [
    "# No es necesario redimensionar las imagenes pues todas tienen el mismo tamaño (600x450)"
   ]
  },
  {
   "cell_type": "code",
   "execution_count": 14,
   "metadata": {},
   "outputs": [
    {
     "name": "stdout",
     "output_type": "stream",
     "text": [
      "(2212, 450, 600)\n",
      "(2212,)\n"
     ]
    }
   ],
   "source": [
    "print(np.shape(X))\n",
    "print(np.shape(Y))"
   ]
  },
  {
   "cell_type": "code",
   "execution_count": 15,
   "metadata": {},
   "outputs": [
    {
     "name": "stdout",
     "output_type": "stream",
     "text": [
      "(2212, 270000)\n"
     ]
    }
   ],
   "source": [
    "redimension=np.array(X).reshape(2212,-1)\n",
    "\n",
    "#np.shape(redimension)\n",
    "X[0][1]\n",
    "print(np.shape(redimension))"
   ]
  },
  {
   "cell_type": "code",
   "execution_count": 17,
   "metadata": {},
   "outputs": [
    {
     "name": "stdout",
     "output_type": "stream",
     "text": [
      "[[4.48229802e-05 4.48229802e-05 4.50946346e-05 ... 4.23780904e-05\n",
      "  4.18347815e-05 4.07481638e-05]\n",
      " [5.16143408e-06 4.88977966e-06 4.88977966e-06 ... 4.34647081e-06\n",
      "  4.34647081e-06 4.61812523e-06]\n",
      " [3.74883107e-05 3.72166563e-05 3.66733474e-05 ... 1.76575376e-05\n",
      "  1.65709199e-05 1.65709199e-05]\n",
      " ...\n",
      " [3.69450018e-05 3.69450018e-05 3.77599651e-05 ... 3.83032740e-05\n",
      "  3.83032740e-05 3.85749284e-05]\n",
      " [2.28189717e-05 2.28189717e-05 2.47205527e-05 ... 3.91182372e-05\n",
      "  3.88465828e-05 3.91182372e-05]\n",
      " [3.69450018e-05 3.88465828e-05 4.04765094e-05 ... 3.72166563e-05\n",
      "  3.72166563e-05 3.66733474e-05]]\n"
     ]
    }
   ],
   "source": [
    "nsamples, nx, ny = np.shape(X)\n",
    "X_train2d = np.array(X).reshape((nsamples,nx*ny))\n",
    "X_train2d_norm = X_train2d/np.linalg.norm(X_train2d)\n",
    "print(X_train2d_norm)\n",
    "#X_train2d = np.array(X_train).reshape((nsamples,nx*ny)"
   ]
  },
  {
   "cell_type": "code",
   "execution_count": 19,
   "metadata": {},
   "outputs": [],
   "source": [
    "n_components = 150\n",
    "### PCA\n",
    "pca = PCA(n_components=n_components).fit(X_train2d_norm)\n",
    "X_train_pca = pca.transform(X_train2d_norm)"
   ]
  },
  {
   "cell_type": "code",
   "execution_count": null,
   "metadata": {},
   "outputs": [],
   "source": [
    "print(np.shape(X_train_pca))\n",
    "X_Edad_LOC = np.column_stack((X_train_pca,vector_edad,vector_localizacion))\n",
    "print(np.shape(X_Edad_LOC))"
   ]
  }
 ],
 "metadata": {
  "kernelspec": {
   "display_name": "Python 3",
   "language": "python",
   "name": "python3"
  },
  "language_info": {
   "codemirror_mode": {
    "name": "ipython",
    "version": 3
   },
   "file_extension": ".py",
   "mimetype": "text/x-python",
   "name": "python",
   "nbconvert_exporter": "python",
   "pygments_lexer": "ipython3",
   "version": "3.7.4"
  }
 },
 "nbformat": 4,
 "nbformat_minor": 2
}
